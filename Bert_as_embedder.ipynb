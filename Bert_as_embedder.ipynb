{
  "nbformat": 4,
  "nbformat_minor": 0,
  "metadata": {
    "colab": {
      "name": "Bert-as-embedder.ipynb",
      "provenance": [],
      "collapsed_sections": [],
      "toc_visible": true,
      "authorship_tag": "ABX9TyMmKtT5/cBpkC7vzFJAInN/",
      "include_colab_link": true
    },
    "kernelspec": {
      "name": "python3",
      "display_name": "Python 3"
    },
    "language_info": {
      "name": "python"
    },
    "accelerator": "GPU"
  },
  "cells": [
    {
      "cell_type": "markdown",
      "metadata": {
        "id": "view-in-github",
        "colab_type": "text"
      },
      "source": [
        "<a href=\"https://colab.research.google.com/github/mathluva/bert-as-embedder/blob/main/Bert_as_embedder.ipynb\" target=\"_parent\"><img src=\"https://colab.research.google.com/assets/colab-badge.svg\" alt=\"Open In Colab\"/></a>"
      ]
    },
    {
      "cell_type": "code",
      "metadata": {
        "id": "v3ypw_VCE_Fn"
      },
      "source": [
        "#import dependencies\n",
        "import numpy as np\n",
        "import math\n",
        "import re\n",
        "import pandas as pd\n",
        "from bs4 import BeautifulSoup\n",
        "import random\n",
        "\n",
        "from google.colab import drive"
      ],
      "execution_count": 1,
      "outputs": []
    },
    {
      "cell_type": "code",
      "metadata": {
        "colab": {
          "base_uri": "https://localhost:8080/"
        },
        "id": "EUEr6V-VFVSG",
        "outputId": "d8e86a7e-6727-4d3d-bbaf-64d56cab7862"
      },
      "source": [
        "#use ! for terminal commands\n",
        "!pip install bert-for-tf2 #tensorflow2 light version\n",
        "!pip install sentencepiece #required for BERT-tf2"
      ],
      "execution_count": 2,
      "outputs": [
        {
          "output_type": "stream",
          "text": [
            "Collecting bert-for-tf2\n",
            "\u001b[?25l  Downloading https://files.pythonhosted.org/packages/a5/a1/acb891630749c56901e770a34d6bac8a509a367dd74a05daf7306952e910/bert-for-tf2-0.14.9.tar.gz (41kB)\n",
            "\r\u001b[K     |████████                        | 10kB 26.5MB/s eta 0:00:01\r\u001b[K     |████████████████                | 20kB 33.5MB/s eta 0:00:01\r\u001b[K     |███████████████████████▉        | 30kB 21.5MB/s eta 0:00:01\r\u001b[K     |███████████████████████████████▉| 40kB 25.2MB/s eta 0:00:01\r\u001b[K     |████████████████████████████████| 51kB 7.2MB/s \n",
            "\u001b[?25hCollecting py-params>=0.9.6\n",
            "  Downloading https://files.pythonhosted.org/packages/aa/e0/4f663d8abf83c8084b75b995bd2ab3a9512ebc5b97206fde38cef906ab07/py-params-0.10.2.tar.gz\n",
            "Collecting params-flow>=0.8.0\n",
            "  Downloading https://files.pythonhosted.org/packages/a9/95/ff49f5ebd501f142a6f0aaf42bcfd1c192dc54909d1d9eb84ab031d46056/params-flow-0.8.2.tar.gz\n",
            "Requirement already satisfied: numpy in /usr/local/lib/python3.7/dist-packages (from params-flow>=0.8.0->bert-for-tf2) (1.19.5)\n",
            "Requirement already satisfied: tqdm in /usr/local/lib/python3.7/dist-packages (from params-flow>=0.8.0->bert-for-tf2) (4.41.1)\n",
            "Building wheels for collected packages: bert-for-tf2, py-params, params-flow\n",
            "  Building wheel for bert-for-tf2 (setup.py) ... \u001b[?25l\u001b[?25hdone\n",
            "  Created wheel for bert-for-tf2: filename=bert_for_tf2-0.14.9-cp37-none-any.whl size=30535 sha256=09f18e52ef4cf6e08f5e0b1adbd782a7133b079b87121d83a0a47ba56f7e3c69\n",
            "  Stored in directory: /root/.cache/pip/wheels/a1/04/ee/347bd9f5b821b637c76411d280271a857aece00358896a230f\n",
            "  Building wheel for py-params (setup.py) ... \u001b[?25l\u001b[?25hdone\n",
            "  Created wheel for py-params: filename=py_params-0.10.2-cp37-none-any.whl size=7912 sha256=33245b4441e28b3e3bb68db1a9269b86e2ac9fafa64dd4811ab940dbe26ed30f\n",
            "  Stored in directory: /root/.cache/pip/wheels/d0/4a/70/ff12450229ff1955abf01f365051d4faae1c20aef53ab4cf09\n",
            "  Building wheel for params-flow (setup.py) ... \u001b[?25l\u001b[?25hdone\n",
            "  Created wheel for params-flow: filename=params_flow-0.8.2-cp37-none-any.whl size=19472 sha256=257ace655b21c4b4dc644cde828b3fc121e8e96119686915ae563e411c0156f4\n",
            "  Stored in directory: /root/.cache/pip/wheels/08/c8/7f/81c86b9ff2b86e2c477e3914175be03e679e596067dc630c06\n",
            "Successfully built bert-for-tf2 py-params params-flow\n",
            "Installing collected packages: py-params, params-flow, bert-for-tf2\n",
            "Successfully installed bert-for-tf2-0.14.9 params-flow-0.8.2 py-params-0.10.2\n",
            "Collecting sentencepiece\n",
            "\u001b[?25l  Downloading https://files.pythonhosted.org/packages/f5/99/e0808cb947ba10f575839c43e8fafc9cc44e4a7a2c8f79c60db48220a577/sentencepiece-0.1.95-cp37-cp37m-manylinux2014_x86_64.whl (1.2MB)\n",
            "\u001b[K     |████████████████████████████████| 1.2MB 23.3MB/s \n",
            "\u001b[?25hInstalling collected packages: sentencepiece\n",
            "Successfully installed sentencepiece-0.1.95\n"
          ],
          "name": "stdout"
        }
      ]
    },
    {
      "cell_type": "code",
      "metadata": {
        "colab": {
          "base_uri": "https://localhost:8080/"
        },
        "id": "ZrNuhRxrFZJM",
        "outputId": "5a5ae3fb-b1da-45a3-f917-e292153625da"
      },
      "source": [
        "try:\n",
        "    %tensorflow_version 2.x #only available in Google colab\n",
        "except Exception:\n",
        "    pass\n",
        "import tensorflow as tf\n",
        "\n",
        "import tensorflow_hub as hub #used to import the weights from BERT\n",
        "\n",
        "from tensorflow.keras import layers\n",
        "import bert #installed in previous step"
      ],
      "execution_count": 3,
      "outputs": [
        {
          "output_type": "stream",
          "text": [
            "`%tensorflow_version` only switches the major version: 1.x or 2.x.\n",
            "You set: `2.x #only available in Google colab`. This will be interpreted as: `2.x`.\n",
            "\n",
            "\n",
            "TensorFlow 2.x selected.\n"
          ],
          "name": "stdout"
        }
      ]
    },
    {
      "cell_type": "code",
      "metadata": {
        "colab": {
          "base_uri": "https://localhost:8080/"
        },
        "id": "OmyCFWZ3FdN0",
        "outputId": "e671c61a-5317-4f81-e58f-e080c5f88be3"
      },
      "source": [
        "#load files, data preprocessing\n",
        "drive.mount(\"/content/drive\")"
      ],
      "execution_count": 4,
      "outputs": [
        {
          "output_type": "stream",
          "text": [
            "Mounted at /content/drive\n"
          ],
          "name": "stdout"
        }
      ]
    },
    {
      "cell_type": "code",
      "metadata": {
        "id": "yb1heruuFg-U"
      },
      "source": [
        "#label columns\n",
        "#latin1 is common for western languages\n",
        "cols = [\"sentiment\", \"id\", \"date\", \"query\", \"user\", \"text\"]\n",
        "data = pd.read_csv(\n",
        "    \"/content/drive/MyDrive/trainingandtestdata.zip (Unzipped Files)/training.1600000.processed.noemoticon.csv\", \n",
        "    header = None,\n",
        "    names = cols,\n",
        "    engine = \"python\",\n",
        "    encoding = \"latin1\")"
      ],
      "execution_count": 5,
      "outputs": []
    },
    {
      "cell_type": "code",
      "metadata": {
        "id": "4vnUU7YpFqQW"
      },
      "source": [
        "#axis1 column data\n",
        "#without inplace=True, it would be required to write data = data.drop(\"...\")\n",
        "data.drop([\"id\", \"date\",\"query\", \"user\"], axis = 1, inplace = True)"
      ],
      "execution_count": 6,
      "outputs": []
    },
    {
      "cell_type": "code",
      "metadata": {
        "colab": {
          "base_uri": "https://localhost:8080/",
          "height": 204
        },
        "id": "oI0q8xcHFwEO",
        "outputId": "16c1295f-2dfe-4913-99de-4802b3483f1e"
      },
      "source": [
        "data.head()"
      ],
      "execution_count": 7,
      "outputs": [
        {
          "output_type": "execute_result",
          "data": {
            "text/html": [
              "<div>\n",
              "<style scoped>\n",
              "    .dataframe tbody tr th:only-of-type {\n",
              "        vertical-align: middle;\n",
              "    }\n",
              "\n",
              "    .dataframe tbody tr th {\n",
              "        vertical-align: top;\n",
              "    }\n",
              "\n",
              "    .dataframe thead th {\n",
              "        text-align: right;\n",
              "    }\n",
              "</style>\n",
              "<table border=\"1\" class=\"dataframe\">\n",
              "  <thead>\n",
              "    <tr style=\"text-align: right;\">\n",
              "      <th></th>\n",
              "      <th>sentiment</th>\n",
              "      <th>text</th>\n",
              "    </tr>\n",
              "  </thead>\n",
              "  <tbody>\n",
              "    <tr>\n",
              "      <th>0</th>\n",
              "      <td>0</td>\n",
              "      <td>@switchfoot http://twitpic.com/2y1zl - Awww, t...</td>\n",
              "    </tr>\n",
              "    <tr>\n",
              "      <th>1</th>\n",
              "      <td>0</td>\n",
              "      <td>is upset that he can't update his Facebook by ...</td>\n",
              "    </tr>\n",
              "    <tr>\n",
              "      <th>2</th>\n",
              "      <td>0</td>\n",
              "      <td>@Kenichan I dived many times for the ball. Man...</td>\n",
              "    </tr>\n",
              "    <tr>\n",
              "      <th>3</th>\n",
              "      <td>0</td>\n",
              "      <td>my whole body feels itchy and like its on fire</td>\n",
              "    </tr>\n",
              "    <tr>\n",
              "      <th>4</th>\n",
              "      <td>0</td>\n",
              "      <td>@nationwideclass no, it's not behaving at all....</td>\n",
              "    </tr>\n",
              "  </tbody>\n",
              "</table>\n",
              "</div>"
            ],
            "text/plain": [
              "   sentiment                                               text\n",
              "0          0  @switchfoot http://twitpic.com/2y1zl - Awww, t...\n",
              "1          0  is upset that he can't update his Facebook by ...\n",
              "2          0  @Kenichan I dived many times for the ball. Man...\n",
              "3          0    my whole body feels itchy and like its on fire \n",
              "4          0  @nationwideclass no, it's not behaving at all...."
            ]
          },
          "metadata": {
            "tags": []
          },
          "execution_count": 7
        }
      ]
    },
    {
      "cell_type": "code",
      "metadata": {
        "id": "I-RmF3OFFyY_"
      },
      "source": [
        "#cleaning\n",
        "#r is regEX (regexr.com for more documentation)\n",
        "def clean_tweet(tweet):\n",
        "    tweet = BeautifulSoup(tweet, \"lxml\").get_text() #tweets are not usuable as standard string, need BS to extract string\n",
        "    tweet = re.sub(r\"@[A-Za-z0-9]+\", ' ',tweet)#anything behind @symbol with empty space, apply to tweet\n",
        "    tweet = re.sub(r\"https?://[A-Za-z0-9./]+\", ' ', tweet)#? means the s can be there or not\n",
        "    tweet = re.sub(r\"[^a-zA-Z.!?]\", ' ', tweet) #keep only standard characters\n",
        "    tweet = re.sub(r\" +\", ' ', tweet) #replace multiple sequences of white space with only one white space\n",
        "    return tweet"
      ],
      "execution_count": 8,
      "outputs": []
    },
    {
      "cell_type": "code",
      "metadata": {
        "id": "nvuRJmC0F1w_"
      },
      "source": [
        "data_clean = [clean_tweet(tweet) for tweet in data.text]"
      ],
      "execution_count": 9,
      "outputs": []
    },
    {
      "cell_type": "code",
      "metadata": {
        "id": "OLXFbtqOF4D3"
      },
      "source": [
        "#process sentiment\n",
        "data_labels = data.sentiment.values\n",
        "data_labels[data_labels ==4] =1 #data is using 0 and 4, replace 4 with standard 1"
      ],
      "execution_count": 10,
      "outputs": []
    },
    {
      "cell_type": "code",
      "metadata": {
        "id": "LFSl7NfDHbxP"
      },
      "source": [
        "#create BERT layer to have access to metadata for the tokenizer(like vocab size).\n",
        "#call BERT as a layer, hub is where all pretrained models are located\n",
        "#trainable = False bc we are not fine-tuning the weights\n",
        "FullTokenizer = bert.bert_tokenization.FullTokenizer\n",
        "bert_layer = hub.KerasLayer(\"https://tfhub.dev/tensorflow/bert_en_uncased_L-12_H-768_A-12/1\",\n",
        "                            trainable = False) \n",
        "vocab_file = bert_layer.resolved_object.vocab_file.asset_path.numpy() #way to have acces to vocab\n",
        "do_lower_case = bert_layer.resolved_object.do_lower_case.numpy()\n",
        "tokenizer = FullTokenizer(vocab_file, do_lower_case)"
      ],
      "execution_count": 16,
      "outputs": []
    },
    {
      "cell_type": "markdown",
      "metadata": {
        "id": "zuOpIOSaHuYc"
      },
      "source": [
        "We only use the first sentence for BERT inputs so we add the CLS token at the beginning and the SEP token at the end of each sentence."
      ]
    },
    {
      "cell_type": "code",
      "metadata": {
        "id": "GxXGG7vzF9Bo"
      },
      "source": [
        "#the first layer is a BERT layer so\n",
        "#make inputs suitable for BERT\n",
        "def encode_sentence(sent):\n",
        "    return [\"[CLS]\"] + tokenizer.tokenize(sent) + [\"[SEP]\"]\n"
      ],
      "execution_count": 22,
      "outputs": []
    },
    {
      "cell_type": "code",
      "metadata": {
        "id": "SuAWIS-7IWXf"
      },
      "source": [
        "data_inputs = [encode_sentence(sentence) for sentence in data_clean]"
      ],
      "execution_count": 23,
      "outputs": []
    },
    {
      "cell_type": "markdown",
      "metadata": {
        "id": "MPG--ueVI6B3"
      },
      "source": [
        "Dataset Creation\n",
        "\n",
        "We need to create 3 different inputs for each sentence:\n",
        "1.  The tokenize version of the sentence created in data_inputs\n",
        "2. Mask layer: 1 for standard tokens and 0 for padding\n",
        "3. Segment input: sequence of 0 and 1's , 0  correspond to first sentence and 1 for second sentence "
      ]
    },
    {
      "cell_type": "code",
      "metadata": {
        "id": "BGMuJJFFKF3k"
      },
      "source": [
        "def get_ids(tokens):\n",
        "    return tokenizer.convert_tokens_to_ids(tokens)\n",
        "\n",
        "\n",
        "#padding mask, compare each element of token with the string \"[PAD]\"\n",
        "#not_equal will give us a 1 when not using [PAD] token\n",
        "def get_mask(tokens):\n",
        "    return np.char.not_equal(tokens, \"[PAD]\").astype(int)\n",
        "\n",
        "\n",
        "\n",
        "def get_segments(tokens):\n",
        "    is_sep = np.char.equal(tokens, \"[SEP]\")\n",
        "    is_first_sent = np.cumsum(is_sep[::-1])[::-1]\n",
        "    return 1 - is_first_sent"
      ],
      "execution_count": 143,
      "outputs": []
    },
    {
      "cell_type": "markdown",
      "metadata": {
        "id": "-XLYXkn93uTG"
      },
      "source": [
        "\n",
        "#determine if 1st or 2nd sentence\n",
        "#first sentence is 0 \"current_id\", after [SEP] turn 0 to 1\n",
        "def get_segments(tokens):\n",
        "    seg_ids = []\n",
        "    current_seg_id = 0\n",
        "    for tok in tokens:\n",
        "        seg_ids.append(current_seg_id)\n",
        "        if tok ==\"[SEP]\":\n",
        "            current_seg_id = 1- current_seg_id  #once we get to a second [SEP] it will turn back to 0, for sentence pair options in BERT\n",
        "        return seg_ids"
      ]
    },
    {
      "cell_type": "code",
      "metadata": {
        "colab": {
          "base_uri": "https://localhost:8080/"
        },
        "id": "NL82c77sfmh1",
        "outputId": "6b1355d9-dfd3-45da-e9ba-34ac270b1c0e"
      },
      "source": [
        "data_inputs[50]"
      ],
      "execution_count": 144,
      "outputs": [
        {
          "output_type": "execute_result",
          "data": {
            "text/plain": [
              "['[CLS]',\n",
              " 'broadband',\n",
              " 'plan',\n",
              " 'a',\n",
              " 'massive',\n",
              " 'broken',\n",
              " 'promise',\n",
              " 'via',\n",
              " 'www',\n",
              " '.',\n",
              " 'di',\n",
              " '##igo',\n",
              " '.',\n",
              " 'com',\n",
              " 'taut',\n",
              " '##ao',\n",
              " 'still',\n",
              " 'waiting',\n",
              " 'for',\n",
              " 'broadband',\n",
              " 'we',\n",
              " 'are',\n",
              " '[SEP]']"
            ]
          },
          "metadata": {
            "tags": []
          },
          "execution_count": 144
        }
      ]
    },
    {
      "cell_type": "code",
      "metadata": {
        "colab": {
          "base_uri": "https://localhost:8080/"
        },
        "id": "jzb3qiBSgAId",
        "outputId": "7b37fadc-6bdf-4880-9514-6034912218a0"
      },
      "source": [
        "get_mask(data_inputs[50])"
      ],
      "execution_count": 145,
      "outputs": [
        {
          "output_type": "execute_result",
          "data": {
            "text/plain": [
              "array([1, 1, 1, 1, 1, 1, 1, 1, 1, 1, 1, 1, 1, 1, 1, 1, 1, 1, 1, 1, 1, 1,\n",
              "       1])"
            ]
          },
          "metadata": {
            "tags": []
          },
          "execution_count": 145
        }
      ]
    },
    {
      "cell_type": "code",
      "metadata": {
        "colab": {
          "base_uri": "https://localhost:8080/"
        },
        "id": "G-aF0Q8CgTac",
        "outputId": "507f763e-357a-4914-e8db-43f98fe032f4"
      },
      "source": [
        "get_segments(data_inputs[50])"
      ],
      "execution_count": 146,
      "outputs": [
        {
          "output_type": "execute_result",
          "data": {
            "text/plain": [
              "array([0, 0, 0, 0, 0, 0, 0, 0, 0, 0, 0, 0, 0, 0, 0, 0, 0, 0, 0, 0, 0, 0,\n",
              "       0])"
            ]
          },
          "metadata": {
            "tags": []
          },
          "execution_count": 146
        }
      ]
    },
    {
      "cell_type": "code",
      "metadata": {
        "colab": {
          "base_uri": "https://localhost:8080/"
        },
        "id": "qIx0cke_gw2H",
        "outputId": "e5b2a2a7-f03d-40f9-dc44-f49fadadf201"
      },
      "source": [
        "get_ids(data_inputs[50])"
      ],
      "execution_count": 147,
      "outputs": [
        {
          "output_type": "execute_result",
          "data": {
            "text/plain": [
              "[101,\n",
              " 19595,\n",
              " 2933,\n",
              " 1037,\n",
              " 5294,\n",
              " 3714,\n",
              " 4872,\n",
              " 3081,\n",
              " 7479,\n",
              " 1012,\n",
              " 4487,\n",
              " 14031,\n",
              " 1012,\n",
              " 4012,\n",
              " 21642,\n",
              " 7113,\n",
              " 2145,\n",
              " 3403,\n",
              " 2005,\n",
              " 19595,\n",
              " 2057,\n",
              " 2024,\n",
              " 102]"
            ]
          },
          "metadata": {
            "tags": []
          },
          "execution_count": 147
        }
      ]
    },
    {
      "cell_type": "markdown",
      "metadata": {
        "id": "BrcF-KnANkbM"
      },
      "source": [
        "We will create padded batches (so we pad sentences for each batch independently), this way we add the minimum of padding tokens possible.  For that, we sort sentences by length, apply padded_batches and then shuffle."
      ]
    },
    {
      "cell_type": "code",
      "metadata": {
        "id": "UW16RyypX-hn"
      },
      "source": [
        "data_with_len = [[sent, data_labels[i] ,len(sent)] \n",
        "                 for i, sent in enumerate(data_inputs)]\n",
        "random.shuffle(data_with_len) \n",
        "data_with_len.sort(key=lambda x: x[2]) \n",
        "sorted_all = [([get_ids(sent_lab[0]),\n",
        "                get_mask(sent_lab[0]), \n",
        "                get_segments(sent_lab[0])], sent_lab[1])\n",
        "                    for sent_lab in data_with_len if sent_lab[2]>7]"
      ],
      "execution_count": 148,
      "outputs": []
    },
    {
      "cell_type": "code",
      "metadata": {
        "id": "9hKBSNQZkOee"
      },
      "source": [
        "all_dataset = tf.data.Dataset.from_generator(lambda: sorted_all,\n",
        "                                output_types =(tf.int32, tf.int32))\n"
      ],
      "execution_count": 149,
      "outputs": []
    },
    {
      "cell_type": "code",
      "metadata": {
        "id": "nNt011Zj7D75"
      },
      "source": [
        "BATCH_SIZE =32\n",
        "all_batched = all_dataset.padded_batch(BATCH_SIZE, padded_shapes=((None,  ), ()))"
      ],
      "execution_count": 151,
      "outputs": []
    },
    {
      "cell_type": "code",
      "metadata": {
        "colab": {
          "base_uri": "https://localhost:8080/"
        },
        "id": "zN95N9s3lj5-",
        "outputId": "32702b03-19ed-49ef-cf0c-0141a9240b60"
      },
      "source": [
        "my_sent = [\"[CLS]\"] +tokenizer.tokenize(\"Roses are red.\") + [\"[SEP]\"]\n",
        "bert_layer([tf.expand_dims(tf.cast(get_ids(my_sent), tf.int32), 0),\n",
        "            tf.expand_dims(tf.cast(get_mask(my_sent), tf.int32), 0),\n",
        "            tf.expand_dims(tf.cast(get_segments(my_sent), tf.int32), 0)])"
      ],
      "execution_count": 152,
      "outputs": [
        {
          "output_type": "execute_result",
          "data": {
            "text/plain": [
              "[<tf.Tensor: shape=(1, 768), dtype=float32, numpy=\n",
              " array([[-9.2793572e-01, -4.1033605e-01, -9.6575540e-01,  9.0731835e-01,\n",
              "          8.1291467e-01, -1.7417499e-01,  9.1123497e-01,  3.4195280e-01,\n",
              "         -8.7452203e-01, -9.9998933e-01, -7.7841067e-01,  9.6938545e-01,\n",
              "          9.8616040e-01,  6.3696516e-01,  9.4863141e-01, -7.5119400e-01,\n",
              "         -4.5834044e-01, -7.0810521e-01,  4.6209922e-01, -6.5792799e-01,\n",
              "          7.6041526e-01,  9.9999481e-01, -3.9686257e-01,  3.4416667e-01,\n",
              "          6.1648947e-01,  9.9440002e-01, -7.7663440e-01,  9.3831664e-01,\n",
              "          9.5945227e-01,  7.3287970e-01, -6.9343781e-01,  2.9308090e-01,\n",
              "         -9.9378556e-01, -1.6455242e-01, -9.6701986e-01, -9.9554962e-01,\n",
              "          5.3293628e-01, -6.8806112e-01,  1.3470631e-02,  2.9818902e-02,\n",
              "         -9.1835672e-01,  4.2052680e-01,  9.9998897e-01,  2.5267771e-01,\n",
              "          6.0623682e-01, -3.5075051e-01, -9.9999976e-01,  4.9758595e-01,\n",
              "         -8.9518762e-01,  9.6256125e-01,  9.4373119e-01,  9.0328616e-01,\n",
              "          1.5470025e-01,  5.8614457e-01,  5.8086097e-01, -4.0505370e-01,\n",
              "         -2.7663369e-02,  2.9804686e-01, -2.8307614e-01, -6.4742476e-01,\n",
              "         -6.5152413e-01,  5.4384828e-01, -9.5630234e-01, -9.2275053e-01,\n",
              "          9.6146309e-01,  8.2747632e-01, -3.5011384e-01, -4.0640655e-01,\n",
              "         -8.7432727e-02, -9.9873833e-02,  8.9668864e-01,  3.0093238e-01,\n",
              "         -1.5113071e-01, -8.5271382e-01,  8.0959362e-01,  4.0098974e-01,\n",
              "         -6.6160655e-01,  9.9999976e-01, -6.1624700e-01, -9.8640716e-01,\n",
              "          8.9094371e-01,  8.1115866e-01,  5.8139527e-01, -6.3387489e-01,\n",
              "          3.7820041e-01, -9.9999976e-01,  6.7635202e-01, -2.3061322e-01,\n",
              "         -9.9255258e-01,  3.8546190e-01,  6.5765136e-01, -2.9010639e-01,\n",
              "          4.4683540e-01,  6.2852466e-01, -5.5841106e-01, -6.6529578e-01,\n",
              "         -4.7227323e-01, -9.2803973e-01, -3.5447332e-01, -6.1973667e-01,\n",
              "          1.2453584e-01, -3.4890643e-01, -4.2318508e-01, -4.2083544e-01,\n",
              "          4.5658898e-01, -6.1447173e-01, -5.1524442e-01,  5.0191134e-01,\n",
              "          4.2914891e-01,  7.5982249e-01,  4.3751726e-01, -4.3359894e-01,\n",
              "          6.3096261e-01, -9.5974320e-01,  7.7387768e-01, -3.9573869e-01,\n",
              "         -9.8735446e-01, -6.7318070e-01, -9.9299634e-01,  7.7780080e-01,\n",
              "         -5.0585830e-01, -3.1999180e-01,  9.6938884e-01, -3.5162288e-01,\n",
              "          3.7909269e-01, -2.2165047e-01, -9.5150608e-01, -9.9999976e-01,\n",
              "         -8.8042730e-01, -8.3471376e-01, -2.7732235e-01, -4.7046205e-01,\n",
              "         -9.8371202e-01, -9.5673025e-01,  6.6112125e-01,  9.5602590e-01,\n",
              "          1.6218971e-01,  9.9996156e-01, -5.1120698e-01,  9.5953053e-01,\n",
              "         -5.5861175e-01, -8.0022186e-01,  8.4854478e-01, -5.5832082e-01,\n",
              "          8.3373928e-01,  2.6315174e-01, -7.3384762e-01,  3.1619030e-01,\n",
              "         -4.8330754e-01,  6.8745089e-01, -7.9489094e-01, -3.8129869e-01,\n",
              "         -8.7170708e-01, -9.4948822e-01, -3.6246017e-01,  9.5117569e-01,\n",
              "         -7.6252180e-01, -9.6127844e-01, -1.5329693e-01, -4.0246388e-01,\n",
              "         -5.6981653e-01,  8.5247624e-01,  7.9981858e-01,  5.3358704e-01,\n",
              "         -6.9654781e-01,  4.8427328e-01,  2.2444385e-01,  7.3119569e-01,\n",
              "         -8.1820834e-01, -3.5815075e-01,  5.3202897e-01, -4.4167686e-01,\n",
              "         -9.2572159e-01, -9.8760724e-01, -5.0700879e-01,  5.3148597e-01,\n",
              "          9.9382710e-01,  7.6617557e-01,  4.1239399e-01,  8.8327068e-01,\n",
              "         -3.8566720e-01,  8.8185060e-01, -9.6734518e-01,  9.8640752e-01,\n",
              "         -3.1353661e-01,  3.5736427e-01, -6.5759242e-01,  2.7009875e-01,\n",
              "         -8.5911310e-01,  2.3200704e-01,  8.6285365e-01, -9.0366286e-01,\n",
              "         -7.9461032e-01, -2.8269988e-01, -4.7658396e-01, -5.0109810e-01,\n",
              "         -8.8042307e-01,  5.4558688e-01, -4.4197822e-01, -5.7772923e-01,\n",
              "         -1.2581076e-01,  9.0603215e-01,  9.8056239e-01,  8.4425384e-01,\n",
              "          5.2012134e-01,  7.8057975e-01, -9.2341435e-01, -5.8724481e-01,\n",
              "          2.3475493e-01,  2.9774719e-01,  3.5446432e-01,  9.9621868e-01,\n",
              "         -8.0123842e-01, -2.7999881e-01, -9.3994886e-01, -9.8375189e-01,\n",
              "          3.8299974e-02, -9.2882192e-01, -2.9413873e-01, -7.0060164e-01,\n",
              "          7.6786464e-01, -3.5192445e-01,  6.5768564e-01,  5.5410814e-01,\n",
              "         -9.9045938e-01, -7.8043461e-01,  5.5027348e-01, -5.0393343e-01,\n",
              "          5.5685323e-01, -3.5322469e-01,  7.8635061e-01,  9.6960729e-01,\n",
              "         -6.5410262e-01,  7.3423380e-01,  8.8199693e-01, -9.1477281e-01,\n",
              "         -7.8253508e-01,  8.5274184e-01, -4.3866843e-01,  8.2417244e-01,\n",
              "         -7.7735507e-01,  9.9162710e-01,  9.4804895e-01,  7.7440190e-01,\n",
              "         -9.5281184e-01, -7.5240171e-01, -8.6539131e-01, -8.1066632e-01,\n",
              "         -1.9108614e-01,  6.2257048e-02,  9.3934321e-01,  6.6015571e-01,\n",
              "          5.1039368e-01,  3.0385229e-01, -7.5878662e-01,  9.9794728e-01,\n",
              "         -8.3939117e-01, -9.7382170e-01, -6.9680923e-01, -4.7122741e-01,\n",
              "         -9.9213976e-01,  9.2733741e-01,  3.1111902e-01,  6.1715043e-01,\n",
              "         -5.9324604e-01, -7.3074490e-01, -9.7408134e-01,  9.1418439e-01,\n",
              "          2.3510784e-01,  9.9023294e-01, -4.9807674e-01, -9.5973974e-01,\n",
              "         -7.6237202e-01, -9.3091351e-01, -4.3206107e-02, -2.1311729e-01,\n",
              "         -6.0608709e-01, -2.8160300e-02, -9.6971846e-01,  6.3624483e-01,\n",
              "          6.3531673e-01,  5.3790623e-01, -8.9103693e-01,  9.9930334e-01,\n",
              "          9.9999976e-01,  9.7300375e-01,  9.0139699e-01,  8.8746685e-01,\n",
              "         -9.9995887e-01, -6.9002271e-01,  9.9999797e-01, -9.9373072e-01,\n",
              "         -9.9999976e-01, -9.3751085e-01, -8.1225413e-01,  2.7066225e-01,\n",
              "         -9.9999976e-01, -2.8707945e-01, -1.5092114e-01, -9.3114036e-01,\n",
              "          8.1855613e-01,  9.7832906e-01,  9.9496567e-01, -9.9999976e-01,\n",
              "          8.8145387e-01,  9.3084329e-01, -7.0602733e-01,  9.7676748e-01,\n",
              "         -6.0833097e-01,  9.7554338e-01,  5.9302098e-01,  5.5431980e-01,\n",
              "         -2.4430801e-01,  4.2284414e-01, -9.6806675e-01, -9.1415876e-01,\n",
              "         -7.7570409e-01, -7.7975476e-01,  9.9887347e-01,  2.6752657e-01,\n",
              "         -7.7068180e-01, -9.3097049e-01,  6.9825894e-01, -1.7943656e-01,\n",
              "          1.4864640e-01, -9.6940440e-01, -3.2720053e-01,  7.6922387e-01,\n",
              "          8.3843815e-01,  2.7436396e-01,  4.4667467e-01, -6.8823433e-01,\n",
              "          4.3852574e-01, -6.9617510e-02,  2.8388628e-01,  6.9668525e-01,\n",
              "         -9.5527261e-01, -5.4968482e-01, -3.8956264e-01,  3.7522390e-01,\n",
              "         -7.6476347e-01, -9.5412302e-01,  9.6972126e-01, -4.8606738e-01,\n",
              "          9.7220588e-01,  9.9999976e-01,  7.6481467e-01, -9.1330379e-01,\n",
              "          6.5708357e-01,  4.3185285e-01, -7.0108068e-01,  9.9999976e-01,\n",
              "          8.6733752e-01, -9.8366964e-01, -5.8447224e-01,  7.7954149e-01,\n",
              "         -6.7789048e-01, -7.7452445e-01,  9.9966091e-01, -3.4109369e-01,\n",
              "         -8.1448060e-01, -6.4807093e-01,  9.8627311e-01, -9.9408925e-01,\n",
              "          9.9764317e-01, -8.9453781e-01, -9.7999728e-01,  9.6047789e-01,\n",
              "          9.4923204e-01, -6.8382889e-01, -7.1789932e-01,  2.8670770e-01,\n",
              "         -7.6004243e-01,  4.7833353e-01, -9.5196342e-01,  8.0832165e-01,\n",
              "          5.2761501e-01, -1.6766599e-01,  9.1626823e-01, -8.8789934e-01,\n",
              "         -5.9343129e-01,  3.9030832e-01, -7.7692395e-01, -3.8481990e-01,\n",
              "          9.5903850e-01,  6.7838204e-01, -4.0870368e-01, -1.9967787e-02,\n",
              "         -4.6842939e-01, -7.4114400e-01, -9.7373438e-01,  6.2325525e-01,\n",
              "          9.9999976e-01, -4.3185720e-01,  8.9434940e-01, -5.7257062e-01,\n",
              "         -1.8950224e-02,  7.2484896e-02,  6.0542184e-01,  5.6456459e-01,\n",
              "         -5.0403565e-01, -8.3365357e-01,  9.2037892e-01, -9.7066492e-01,\n",
              "         -9.9262738e-01,  8.6312002e-01,  2.3281918e-01, -3.0533934e-01,\n",
              "          9.9999923e-01,  6.5102541e-01,  3.6955938e-01,  5.1695263e-01,\n",
              "          9.8993748e-01, -5.1056907e-02,  5.1978183e-01,  9.1352028e-01,\n",
              "          9.8934436e-01, -4.0651533e-01,  6.7222798e-01,  8.6624646e-01,\n",
              "         -9.6332121e-01, -3.9390603e-01, -7.3253483e-01,  6.6650674e-02,\n",
              "         -9.5042914e-01,  5.3675830e-02, -9.6452367e-01,  9.7859126e-01,\n",
              "          9.7252536e-01,  5.0241345e-01,  3.4261367e-01,  8.2006830e-01,\n",
              "          9.9999976e-01, -8.3706838e-01,  5.9741223e-01, -4.1720337e-01,\n",
              "          8.8128668e-01, -9.9991107e-01, -8.3777851e-01, -4.6696249e-01,\n",
              "         -2.7249756e-01, -9.0381509e-01, -4.5863861e-01,  3.9183423e-01,\n",
              "         -9.7905946e-01,  9.1019702e-01,  8.2955629e-01, -9.9289370e-01,\n",
              "         -9.9393338e-01, -5.5882323e-01,  7.8601295e-01,  2.9860139e-01,\n",
              "         -9.9431443e-01, -8.1672591e-01, -6.5843183e-01,  9.0782231e-01,\n",
              "         -4.8459709e-01, -9.5957887e-01, -5.2470255e-01, -4.2652440e-01,\n",
              "          5.3944808e-01, -3.5143027e-01,  6.0398853e-01,  8.8423747e-01,\n",
              "          6.9195944e-01, -7.7355480e-01, -3.4998825e-01, -1.8210690e-01,\n",
              "         -8.0959326e-01,  9.0684164e-01, -8.0970675e-01, -9.7624791e-01,\n",
              "         -2.7070647e-01,  9.9999976e-01, -5.5433303e-01,  8.9376110e-01,\n",
              "          7.5523043e-01,  7.8031683e-01, -1.9922647e-01,  3.3515182e-01,\n",
              "          9.5594436e-01,  3.8227087e-01, -7.5719821e-01, -9.3932050e-01,\n",
              "         -6.3558304e-01, -6.0732985e-01,  7.0057273e-01,  7.2361463e-01,\n",
              "          7.2901291e-01,  8.6588383e-01,  7.6453829e-01,  2.0882131e-01,\n",
              "         -6.9853596e-02, -5.6350074e-04,  9.9979943e-01, -4.4410080e-01,\n",
              "         -1.8067215e-01, -4.8986050e-01, -2.9143265e-01, -4.2540994e-01,\n",
              "         -1.9875106e-01,  9.9999976e-01,  3.5660255e-01,  7.7566236e-01,\n",
              "         -9.9382383e-01, -9.2807144e-01, -9.3173862e-01,  9.9999976e-01,\n",
              "          8.5004044e-01, -7.6071608e-01,  7.1803695e-01,  7.7546972e-01,\n",
              "         -1.7516229e-01,  8.0947012e-01, -3.3654854e-01, -3.0238611e-01,\n",
              "          4.5746836e-01,  3.0804440e-01,  9.7023213e-01, -6.1890507e-01,\n",
              "         -9.7572124e-01, -5.9494954e-01,  5.6339157e-01, -9.6665108e-01,\n",
              "          9.9998122e-01, -6.1034113e-01, -3.6057606e-01, -4.9643651e-01,\n",
              "         -4.9143821e-01,  4.4781870e-01,  2.8739603e-02, -9.8315483e-01,\n",
              "         -3.4738773e-01,  3.0911136e-01,  9.6663904e-01,  3.7586454e-01,\n",
              "         -6.4110714e-01, -8.9026517e-01,  8.9227003e-01,  8.3200085e-01,\n",
              "         -9.5913237e-01, -9.5776641e-01,  9.7116637e-01, -9.8497111e-01,\n",
              "          7.6781994e-01,  9.9999976e-01,  3.8399914e-01,  4.3805340e-01,\n",
              "          3.5229316e-01, -4.4613761e-01,  4.4656995e-01, -6.9063282e-01,\n",
              "          6.7442650e-01, -9.5915574e-01, -4.5328602e-01, -2.9615334e-01,\n",
              "          3.5768509e-01, -2.4115504e-01, -5.8831519e-01,  7.6330841e-01,\n",
              "          3.1366795e-01, -6.0310096e-01, -6.8479592e-01, -2.6014817e-01,\n",
              "          5.7516092e-01,  9.1684443e-01, -3.5680079e-01, -2.3155884e-01,\n",
              "          1.1572868e-01, -1.7711979e-01, -9.4756377e-01, -5.2314287e-01,\n",
              "         -6.0461831e-01, -9.9999857e-01,  5.4166871e-01, -9.9999976e-01,\n",
              "          6.6000366e-01,  3.3903882e-01, -2.5796226e-01,  8.9843428e-01,\n",
              "          3.5850385e-01,  7.8009260e-01, -8.6345637e-01, -9.0424436e-01,\n",
              "          2.3517179e-01,  8.4754229e-01, -4.8370573e-01, -7.7643800e-01,\n",
              "         -7.7708715e-01,  4.5154801e-01, -1.2064506e-01,  3.4533855e-01,\n",
              "         -7.5830579e-01,  7.3866415e-01, -2.5487903e-01,  9.9999976e-01,\n",
              "          1.5672745e-01, -6.4717388e-01, -9.8084658e-01,  3.2154557e-01,\n",
              "         -3.4948102e-01,  9.9999976e-01, -8.8808668e-01, -9.7075886e-01,\n",
              "          4.1761485e-01, -6.5950727e-01, -8.3906209e-01,  4.5644659e-01,\n",
              "          7.0839666e-02, -8.5964924e-01, -9.6872586e-01,  9.5658398e-01,\n",
              "          8.9531171e-01, -6.7916292e-01,  7.9199672e-01, -3.7720552e-01,\n",
              "         -5.9968328e-01,  1.8922007e-01,  9.3477088e-01,  9.8794454e-01,\n",
              "          7.0796579e-01,  9.2108810e-01, -1.5954216e-01, -4.8346895e-01,\n",
              "          9.7664052e-01,  2.9525286e-01,  5.3205460e-01,  3.2265902e-01,\n",
              "          9.9999976e-01,  4.9799249e-01, -9.3100095e-01, -3.2474622e-01,\n",
              "         -9.8284179e-01, -2.6799726e-01, -9.5216608e-01,  4.5391738e-01,\n",
              "          3.9437330e-01,  9.2619038e-01, -3.0975339e-01,  9.6936643e-01,\n",
              "         -9.4026423e-01,  1.6679879e-01, -8.3223391e-01, -7.0441300e-01,\n",
              "          5.4937136e-01, -9.3037373e-01, -9.8870248e-01, -9.9157232e-01,\n",
              "          7.3868352e-01, -5.2632773e-01, -9.2953511e-02,  2.7795666e-01,\n",
              "          2.5438586e-01,  5.5589402e-01,  5.7078111e-01, -9.9999976e-01,\n",
              "          9.5199966e-01,  5.8298159e-01,  9.1339475e-01,  9.7862440e-01,\n",
              "          7.4903333e-01,  7.3997223e-01,  3.7118718e-01, -9.8966068e-01,\n",
              "         -9.8484862e-01, -5.3139848e-01, -3.8897985e-01,  8.4941405e-01,\n",
              "          8.1701756e-01,  8.9269704e-01,  6.1689305e-01, -5.7528484e-01,\n",
              "         -2.8646895e-01, -7.6057225e-01, -7.7893996e-01, -9.9444175e-01,\n",
              "          5.7218903e-01, -7.7219611e-01, -9.5769662e-01,  9.6742088e-01,\n",
              "         -2.1797700e-01, -1.7555356e-01, -3.2655933e-01, -9.0677857e-01,\n",
              "          9.3559772e-01,  7.6624006e-01,  1.9059728e-01,  1.5392962e-01,\n",
              "          5.4021800e-01,  9.0248358e-01,  9.4038898e-01,  9.8888481e-01,\n",
              "         -9.1014463e-01,  7.8836036e-01, -8.3138371e-01,  6.1119622e-01,\n",
              "          8.2166946e-01, -9.4196773e-01,  3.7513417e-01,  5.4940718e-01,\n",
              "         -6.1531973e-01,  3.9150220e-01, -3.6662826e-01, -9.7475249e-01,\n",
              "          8.8887852e-01, -3.6283892e-01,  6.5320659e-01, -5.3507054e-01,\n",
              "         -2.2129562e-02, -4.4015881e-01, -3.8756740e-01, -7.8935546e-01,\n",
              "         -6.7090362e-01,  6.8737066e-01,  4.3468115e-01,  9.0751100e-01,\n",
              "          9.1395468e-01, -1.0754557e-01, -8.5499209e-01, -3.2296637e-01,\n",
              "         -7.8099400e-01, -9.3507546e-01,  9.5662123e-01, -2.4696846e-01,\n",
              "         -1.8467909e-01,  7.1814293e-01,  1.6683529e-01,  9.5427275e-01,\n",
              "          5.2028131e-01, -5.1134694e-01, -3.5843122e-01, -7.7673513e-01,\n",
              "          9.0137917e-01, -6.4581084e-01, -6.6820401e-01, -6.7957658e-01,\n",
              "          8.3088976e-01,  4.5694044e-01,  9.9999821e-01, -8.6158824e-01,\n",
              "         -9.5270884e-01, -5.7405537e-01, -4.7562417e-01,  5.1158661e-01,\n",
              "         -7.0260817e-01, -9.9999976e-01,  5.0562459e-01, -6.5204751e-01,\n",
              "          8.1373179e-01, -8.7213999e-01,  8.0932069e-01, -8.1822270e-01,\n",
              "         -9.8819631e-01, -4.0008369e-01,  3.3894703e-01,  7.6701504e-01,\n",
              "         -5.1635343e-01, -8.7594140e-01,  6.1595255e-01, -7.5271022e-01,\n",
              "          9.8932862e-01,  8.9571083e-01, -6.1425102e-01,  2.1964815e-01,\n",
              "          7.5275475e-01, -8.2039094e-01, -8.0569160e-01,  9.3803954e-01]],\n",
              "       dtype=float32)>, <tf.Tensor: shape=(1, 6, 768), dtype=float32, numpy=\n",
              " array([[[-0.07947542,  0.00580768, -0.31413978, ..., -0.45097244,\n",
              "           0.2933315 ,  0.23387559],\n",
              "         [ 0.39316142,  0.503365  ,  0.240218  , ..., -0.32635668,\n",
              "           0.34986162,  0.206732  ],\n",
              "         [ 0.35789192,  0.10767168, -0.04988647, ..., -0.50822896,\n",
              "           0.2504898 , -0.26268756],\n",
              "         [-0.2989242 , -0.24708866,  0.07151712, ..., -0.3380999 ,\n",
              "           0.1269984 , -0.09681839],\n",
              "         [-0.36815494, -0.71465194, -0.21032459, ...,  0.3539518 ,\n",
              "           0.3343858 , -0.62334824],\n",
              "         [ 0.88692486, -0.1699675 , -0.2917387 , ...,  0.05816831,\n",
              "          -0.5776004 , -0.3207532 ]]], dtype=float32)>]"
            ]
          },
          "metadata": {
            "tags": []
          },
          "execution_count": 152
        }
      ]
    },
    {
      "cell_type": "code",
      "metadata": {
        "id": "uOmMppjHlmQm"
      },
      "source": [
        "class DCNNBERTEmbedding(tf.keras.Model):\n",
        "\n",
        "    def __init__(self, \n",
        "                 nb_filters = 50,\n",
        "                 FFN_units = 512,\n",
        "                 nb_classes = 2, \n",
        "                 dropout_rate = 0.1,\n",
        "                 name = 'dcnn'):\n",
        "        \n",
        "        super(DCNNBERTEmbedding, self).__init__(name = name)\n",
        "\n",
        "        #creating layers used in the model, embedded\n",
        "        self.bert_layer = hub.KerasLayer(\"https://tfhub.dev/tensorflow/bert_en_uncased_L-12_H-768_A-12/1\", trainable = False)\n",
        "\n",
        "        self.bigram = layers.Conv1D(filters = nb_filters, \n",
        "                                               kernel_size =2, \n",
        "                                                padding = 'valid', \n",
        "                                                activation = 'relu')\n",
        "        \n",
        "        self.trigram = layers.Conv1D(filters = nb_filters, \n",
        "                                               kernel_size =3, \n",
        "                                                padding = 'valid', \n",
        "                                                activation = 'relu')\n",
        "\n",
        "        self.fourgram = layers.Conv1D(filters = nb_filters, \n",
        "                                               kernel_size =4, \n",
        "                                                padding = 'valid', \n",
        "                                                activation = 'relu')\n",
        "        \n",
        "        self.pool = layers.GlobalMaxPooling1D()\n",
        "\n",
        "        self.dense_1= layers.Dense(units = FFN_units,\n",
        "                                    activation = 'relu')\n",
        "        \n",
        "        self.dropout = layers.Dropout(rate = dropout_rate)\n",
        "        if nb_classes:\n",
        "            self.last_dense = layers.Dense(units = 1, activation = 'sigmoid')\n",
        "\n",
        "        else: \n",
        "            self.last_dense = layers.Dense(units = nb_classes, activation = 'softmax')\n",
        "    \n",
        "    def embed_with_bert(self, all_tokens):\n",
        "        _, embs = self.bert_layer([all_tokens[:, 0, :],\n",
        "                                   all_tokens[:, 1, :],\n",
        "                                   all_tokens[:, 2, :]])\n",
        "        return embs\n",
        "\n",
        "    def call(self, inputs, training):\n",
        "        x = self.embed_with_bert(inputs)\n",
        "        x_1 = self.bigram(x)\n",
        "        x_1 = self.pool(x_1)\n",
        "        x_2 = self.bigram(x)\n",
        "        x_2 = self.pool(x_2) \n",
        "        x_3 = self.bigram(x)\n",
        "        x_3 = self.pool(x_3)#(batch_size, nb_filters)\n",
        "\n",
        "        merged = tf.concat([x_1, x_2, x_3], axis =-1)\n",
        "        merged = self.dense_1(merged)\n",
        "        merged = self.dropout(merged, training)\n",
        "        output = self.last_dense(merged)\n",
        "\n",
        "        return output"
      ],
      "execution_count": 168,
      "outputs": []
    },
    {
      "cell_type": "code",
      "metadata": {
        "id": "3FwVGqqW973L"
      },
      "source": [
        "#Training\n",
        "NB_FILTERS = 100\n",
        "FFN_UNITS = 256\n",
        "NB_CLASSES = 2\n",
        "\n",
        "DROPOUT_RATE = 0.2\n",
        "\n",
        "BATCH_SIZE = 32\n",
        "NB_EPOCHS = 5"
      ],
      "execution_count": 169,
      "outputs": []
    },
    {
      "cell_type": "code",
      "metadata": {
        "id": "x9_sm6LODhIk"
      },
      "source": [
        "NB_BATCHES = math.ceil(len(sorted_all)/BATCH_SIZE)\n",
        "NB_BATCHES_TEST = NB_BATCHES//10\n",
        "all_batched.shuffle(NB_BATCHES)\n",
        "test_dataset = all_batched.take(NB_BATCHES_TEST)\n",
        "train_dataset = all_batched.skip(NB_BATCHES_TEST)"
      ],
      "execution_count": 170,
      "outputs": []
    },
    {
      "cell_type": "code",
      "metadata": {
        "id": "fH2ciG-p-Vzu"
      },
      "source": [
        "Dcnn = DCNNBERTEmbedding(nb_filters = NB_FILTERS,\n",
        "                         FFN_units = FFN_UNITS,\n",
        "            nb_classes = NB_CLASSES,\n",
        "            dropout_rate = DROPOUT_RATE)"
      ],
      "execution_count": 171,
      "outputs": []
    },
    {
      "cell_type": "code",
      "metadata": {
        "id": "WAYssv08-nTo"
      },
      "source": [
        "if NB_CLASSES ==2:\n",
        "    Dcnn.compile(loss = 'binary_crossentropy',\n",
        "                    optimizer = 'adam',\n",
        "                 metrics = ['accuracy'])\n",
        "\n",
        "else:\n",
        "    Dcnn.compile(loss = \"sparse_categorical_crossentropy\",\n",
        "                        optimizer = 'adam',\n",
        "                  metrics = ['sparse_categorical_crossentropy'])"
      ],
      "execution_count": 172,
      "outputs": []
    },
    {
      "cell_type": "code",
      "metadata": {
        "id": "PNKeDRnnBlvc"
      },
      "source": [
        "checkpoint_path = \"/content/drive/MyDrive/Bert-as-embedding\"\n",
        "\n",
        "ckpt = tf.train.Checkpoint(Dcnn = Dcnn)\n",
        "\n",
        "ckpt_manager = tf.train.CheckpointManager(ckpt, checkpoint_path, max_to_keep =1)\n",
        "\n",
        "if ckpt_manager.latest_checkpoint:\n",
        "        ckpt.restore(ckpt_manager.latest_checkpoint)\n",
        "        print('Latest checkpoint has been restored')"
      ],
      "execution_count": 173,
      "outputs": []
    },
    {
      "cell_type": "code",
      "metadata": {
        "id": "jem_iYM1Bsiq"
      },
      "source": [
        "#custom callback, execute during training\n",
        "class MyCustomCallback(tf.keras.callbacks.Callback):\n",
        "\n",
        "    def on_epoch_end(self, epoch, logs = None):\n",
        "        ckpt_manager.save()\n",
        "        print(\"Checkpoint saved at {}.\".format(checkpoint_path))"
      ],
      "execution_count": 174,
      "outputs": []
    },
    {
      "cell_type": "code",
      "metadata": {
        "colab": {
          "base_uri": "https://localhost:8080/",
          "height": 916
        },
        "id": "Zom3L8OMB3pI",
        "outputId": "695dbcde-56d2-4ad3-fa96-30478b10f30f"
      },
      "source": [
        "Dcnn.fit(train_dataset, \n",
        "         epochs = NB_EPOCHS,\n",
        "         callbacks = [MyCustomCallback()])"
      ],
      "execution_count": 175,
      "outputs": [
        {
          "output_type": "stream",
          "text": [
            "Epoch 1/5\n"
          ],
          "name": "stdout"
        },
        {
          "output_type": "error",
          "ename": "ValueError",
          "evalue": "ignored",
          "traceback": [
            "\u001b[0;31m---------------------------------------------------------------------------\u001b[0m",
            "\u001b[0;31mValueError\u001b[0m                                Traceback (most recent call last)",
            "\u001b[0;32m<ipython-input-175-fde9b04dbde5>\u001b[0m in \u001b[0;36m<module>\u001b[0;34m()\u001b[0m\n\u001b[1;32m      1\u001b[0m Dcnn.fit(train_dataset, \n\u001b[1;32m      2\u001b[0m          \u001b[0mepochs\u001b[0m \u001b[0;34m=\u001b[0m \u001b[0mNB_EPOCHS\u001b[0m\u001b[0;34m,\u001b[0m\u001b[0;34m\u001b[0m\u001b[0;34m\u001b[0m\u001b[0m\n\u001b[0;32m----> 3\u001b[0;31m          callbacks = [MyCustomCallback()])\n\u001b[0m",
            "\u001b[0;32m/usr/local/lib/python3.7/dist-packages/tensorflow/python/keras/engine/training.py\u001b[0m in \u001b[0;36mfit\u001b[0;34m(self, x, y, batch_size, epochs, verbose, callbacks, validation_split, validation_data, shuffle, class_weight, sample_weight, initial_epoch, steps_per_epoch, validation_steps, validation_batch_size, validation_freq, max_queue_size, workers, use_multiprocessing)\u001b[0m\n\u001b[1;32m   1098\u001b[0m                 _r=1):\n\u001b[1;32m   1099\u001b[0m               \u001b[0mcallbacks\u001b[0m\u001b[0;34m.\u001b[0m\u001b[0mon_train_batch_begin\u001b[0m\u001b[0;34m(\u001b[0m\u001b[0mstep\u001b[0m\u001b[0;34m)\u001b[0m\u001b[0;34m\u001b[0m\u001b[0;34m\u001b[0m\u001b[0m\n\u001b[0;32m-> 1100\u001b[0;31m               \u001b[0mtmp_logs\u001b[0m \u001b[0;34m=\u001b[0m \u001b[0mself\u001b[0m\u001b[0;34m.\u001b[0m\u001b[0mtrain_function\u001b[0m\u001b[0;34m(\u001b[0m\u001b[0miterator\u001b[0m\u001b[0;34m)\u001b[0m\u001b[0;34m\u001b[0m\u001b[0;34m\u001b[0m\u001b[0m\n\u001b[0m\u001b[1;32m   1101\u001b[0m               \u001b[0;32mif\u001b[0m \u001b[0mdata_handler\u001b[0m\u001b[0;34m.\u001b[0m\u001b[0mshould_sync\u001b[0m\u001b[0;34m:\u001b[0m\u001b[0;34m\u001b[0m\u001b[0;34m\u001b[0m\u001b[0m\n\u001b[1;32m   1102\u001b[0m                 \u001b[0mcontext\u001b[0m\u001b[0;34m.\u001b[0m\u001b[0masync_wait\u001b[0m\u001b[0;34m(\u001b[0m\u001b[0;34m)\u001b[0m\u001b[0;34m\u001b[0m\u001b[0;34m\u001b[0m\u001b[0m\n",
            "\u001b[0;32m/usr/local/lib/python3.7/dist-packages/tensorflow/python/eager/def_function.py\u001b[0m in \u001b[0;36m__call__\u001b[0;34m(self, *args, **kwds)\u001b[0m\n\u001b[1;32m    826\u001b[0m     \u001b[0mtracing_count\u001b[0m \u001b[0;34m=\u001b[0m \u001b[0mself\u001b[0m\u001b[0;34m.\u001b[0m\u001b[0mexperimental_get_tracing_count\u001b[0m\u001b[0;34m(\u001b[0m\u001b[0;34m)\u001b[0m\u001b[0;34m\u001b[0m\u001b[0;34m\u001b[0m\u001b[0m\n\u001b[1;32m    827\u001b[0m     \u001b[0;32mwith\u001b[0m \u001b[0mtrace\u001b[0m\u001b[0;34m.\u001b[0m\u001b[0mTrace\u001b[0m\u001b[0;34m(\u001b[0m\u001b[0mself\u001b[0m\u001b[0;34m.\u001b[0m\u001b[0m_name\u001b[0m\u001b[0;34m)\u001b[0m \u001b[0;32mas\u001b[0m \u001b[0mtm\u001b[0m\u001b[0;34m:\u001b[0m\u001b[0;34m\u001b[0m\u001b[0;34m\u001b[0m\u001b[0m\n\u001b[0;32m--> 828\u001b[0;31m       \u001b[0mresult\u001b[0m \u001b[0;34m=\u001b[0m \u001b[0mself\u001b[0m\u001b[0;34m.\u001b[0m\u001b[0m_call\u001b[0m\u001b[0;34m(\u001b[0m\u001b[0;34m*\u001b[0m\u001b[0margs\u001b[0m\u001b[0;34m,\u001b[0m \u001b[0;34m**\u001b[0m\u001b[0mkwds\u001b[0m\u001b[0;34m)\u001b[0m\u001b[0;34m\u001b[0m\u001b[0;34m\u001b[0m\u001b[0m\n\u001b[0m\u001b[1;32m    829\u001b[0m       \u001b[0mcompiler\u001b[0m \u001b[0;34m=\u001b[0m \u001b[0;34m\"xla\"\u001b[0m \u001b[0;32mif\u001b[0m \u001b[0mself\u001b[0m\u001b[0;34m.\u001b[0m\u001b[0m_experimental_compile\u001b[0m \u001b[0;32melse\u001b[0m \u001b[0;34m\"nonXla\"\u001b[0m\u001b[0;34m\u001b[0m\u001b[0;34m\u001b[0m\u001b[0m\n\u001b[1;32m    830\u001b[0m       \u001b[0mnew_tracing_count\u001b[0m \u001b[0;34m=\u001b[0m \u001b[0mself\u001b[0m\u001b[0;34m.\u001b[0m\u001b[0mexperimental_get_tracing_count\u001b[0m\u001b[0;34m(\u001b[0m\u001b[0;34m)\u001b[0m\u001b[0;34m\u001b[0m\u001b[0;34m\u001b[0m\u001b[0m\n",
            "\u001b[0;32m/usr/local/lib/python3.7/dist-packages/tensorflow/python/eager/def_function.py\u001b[0m in \u001b[0;36m_call\u001b[0;34m(self, *args, **kwds)\u001b[0m\n\u001b[1;32m    869\u001b[0m       \u001b[0;31m# This is the first call of __call__, so we have to initialize.\u001b[0m\u001b[0;34m\u001b[0m\u001b[0;34m\u001b[0m\u001b[0;34m\u001b[0m\u001b[0m\n\u001b[1;32m    870\u001b[0m       \u001b[0minitializers\u001b[0m \u001b[0;34m=\u001b[0m \u001b[0;34m[\u001b[0m\u001b[0;34m]\u001b[0m\u001b[0;34m\u001b[0m\u001b[0;34m\u001b[0m\u001b[0m\n\u001b[0;32m--> 871\u001b[0;31m       \u001b[0mself\u001b[0m\u001b[0;34m.\u001b[0m\u001b[0m_initialize\u001b[0m\u001b[0;34m(\u001b[0m\u001b[0margs\u001b[0m\u001b[0;34m,\u001b[0m \u001b[0mkwds\u001b[0m\u001b[0;34m,\u001b[0m \u001b[0madd_initializers_to\u001b[0m\u001b[0;34m=\u001b[0m\u001b[0minitializers\u001b[0m\u001b[0;34m)\u001b[0m\u001b[0;34m\u001b[0m\u001b[0;34m\u001b[0m\u001b[0m\n\u001b[0m\u001b[1;32m    872\u001b[0m     \u001b[0;32mfinally\u001b[0m\u001b[0;34m:\u001b[0m\u001b[0;34m\u001b[0m\u001b[0;34m\u001b[0m\u001b[0m\n\u001b[1;32m    873\u001b[0m       \u001b[0;31m# At this point we know that the initialization is complete (or less\u001b[0m\u001b[0;34m\u001b[0m\u001b[0;34m\u001b[0m\u001b[0;34m\u001b[0m\u001b[0m\n",
            "\u001b[0;32m/usr/local/lib/python3.7/dist-packages/tensorflow/python/eager/def_function.py\u001b[0m in \u001b[0;36m_initialize\u001b[0;34m(self, args, kwds, add_initializers_to)\u001b[0m\n\u001b[1;32m    724\u001b[0m     self._concrete_stateful_fn = (\n\u001b[1;32m    725\u001b[0m         self._stateful_fn._get_concrete_function_internal_garbage_collected(  # pylint: disable=protected-access\n\u001b[0;32m--> 726\u001b[0;31m             *args, **kwds))\n\u001b[0m\u001b[1;32m    727\u001b[0m \u001b[0;34m\u001b[0m\u001b[0m\n\u001b[1;32m    728\u001b[0m     \u001b[0;32mdef\u001b[0m \u001b[0minvalid_creator_scope\u001b[0m\u001b[0;34m(\u001b[0m\u001b[0;34m*\u001b[0m\u001b[0munused_args\u001b[0m\u001b[0;34m,\u001b[0m \u001b[0;34m**\u001b[0m\u001b[0munused_kwds\u001b[0m\u001b[0;34m)\u001b[0m\u001b[0;34m:\u001b[0m\u001b[0;34m\u001b[0m\u001b[0;34m\u001b[0m\u001b[0m\n",
            "\u001b[0;32m/usr/local/lib/python3.7/dist-packages/tensorflow/python/eager/function.py\u001b[0m in \u001b[0;36m_get_concrete_function_internal_garbage_collected\u001b[0;34m(self, *args, **kwargs)\u001b[0m\n\u001b[1;32m   2967\u001b[0m       \u001b[0margs\u001b[0m\u001b[0;34m,\u001b[0m \u001b[0mkwargs\u001b[0m \u001b[0;34m=\u001b[0m \u001b[0;32mNone\u001b[0m\u001b[0;34m,\u001b[0m \u001b[0;32mNone\u001b[0m\u001b[0;34m\u001b[0m\u001b[0;34m\u001b[0m\u001b[0m\n\u001b[1;32m   2968\u001b[0m     \u001b[0;32mwith\u001b[0m \u001b[0mself\u001b[0m\u001b[0;34m.\u001b[0m\u001b[0m_lock\u001b[0m\u001b[0;34m:\u001b[0m\u001b[0;34m\u001b[0m\u001b[0;34m\u001b[0m\u001b[0m\n\u001b[0;32m-> 2969\u001b[0;31m       \u001b[0mgraph_function\u001b[0m\u001b[0;34m,\u001b[0m \u001b[0m_\u001b[0m \u001b[0;34m=\u001b[0m \u001b[0mself\u001b[0m\u001b[0;34m.\u001b[0m\u001b[0m_maybe_define_function\u001b[0m\u001b[0;34m(\u001b[0m\u001b[0margs\u001b[0m\u001b[0;34m,\u001b[0m \u001b[0mkwargs\u001b[0m\u001b[0;34m)\u001b[0m\u001b[0;34m\u001b[0m\u001b[0;34m\u001b[0m\u001b[0m\n\u001b[0m\u001b[1;32m   2970\u001b[0m     \u001b[0;32mreturn\u001b[0m \u001b[0mgraph_function\u001b[0m\u001b[0;34m\u001b[0m\u001b[0;34m\u001b[0m\u001b[0m\n\u001b[1;32m   2971\u001b[0m \u001b[0;34m\u001b[0m\u001b[0m\n",
            "\u001b[0;32m/usr/local/lib/python3.7/dist-packages/tensorflow/python/eager/function.py\u001b[0m in \u001b[0;36m_maybe_define_function\u001b[0;34m(self, args, kwargs)\u001b[0m\n\u001b[1;32m   3359\u001b[0m \u001b[0;34m\u001b[0m\u001b[0m\n\u001b[1;32m   3360\u001b[0m           \u001b[0mself\u001b[0m\u001b[0;34m.\u001b[0m\u001b[0m_function_cache\u001b[0m\u001b[0;34m.\u001b[0m\u001b[0mmissed\u001b[0m\u001b[0;34m.\u001b[0m\u001b[0madd\u001b[0m\u001b[0;34m(\u001b[0m\u001b[0mcall_context_key\u001b[0m\u001b[0;34m)\u001b[0m\u001b[0;34m\u001b[0m\u001b[0;34m\u001b[0m\u001b[0m\n\u001b[0;32m-> 3361\u001b[0;31m           \u001b[0mgraph_function\u001b[0m \u001b[0;34m=\u001b[0m \u001b[0mself\u001b[0m\u001b[0;34m.\u001b[0m\u001b[0m_create_graph_function\u001b[0m\u001b[0;34m(\u001b[0m\u001b[0margs\u001b[0m\u001b[0;34m,\u001b[0m \u001b[0mkwargs\u001b[0m\u001b[0;34m)\u001b[0m\u001b[0;34m\u001b[0m\u001b[0;34m\u001b[0m\u001b[0m\n\u001b[0m\u001b[1;32m   3362\u001b[0m           \u001b[0mself\u001b[0m\u001b[0;34m.\u001b[0m\u001b[0m_function_cache\u001b[0m\u001b[0;34m.\u001b[0m\u001b[0mprimary\u001b[0m\u001b[0;34m[\u001b[0m\u001b[0mcache_key\u001b[0m\u001b[0;34m]\u001b[0m \u001b[0;34m=\u001b[0m \u001b[0mgraph_function\u001b[0m\u001b[0;34m\u001b[0m\u001b[0;34m\u001b[0m\u001b[0m\n\u001b[1;32m   3363\u001b[0m \u001b[0;34m\u001b[0m\u001b[0m\n",
            "\u001b[0;32m/usr/local/lib/python3.7/dist-packages/tensorflow/python/eager/function.py\u001b[0m in \u001b[0;36m_create_graph_function\u001b[0;34m(self, args, kwargs, override_flat_arg_shapes)\u001b[0m\n\u001b[1;32m   3204\u001b[0m             \u001b[0marg_names\u001b[0m\u001b[0;34m=\u001b[0m\u001b[0marg_names\u001b[0m\u001b[0;34m,\u001b[0m\u001b[0;34m\u001b[0m\u001b[0;34m\u001b[0m\u001b[0m\n\u001b[1;32m   3205\u001b[0m             \u001b[0moverride_flat_arg_shapes\u001b[0m\u001b[0;34m=\u001b[0m\u001b[0moverride_flat_arg_shapes\u001b[0m\u001b[0;34m,\u001b[0m\u001b[0;34m\u001b[0m\u001b[0;34m\u001b[0m\u001b[0m\n\u001b[0;32m-> 3206\u001b[0;31m             capture_by_value=self._capture_by_value),\n\u001b[0m\u001b[1;32m   3207\u001b[0m         \u001b[0mself\u001b[0m\u001b[0;34m.\u001b[0m\u001b[0m_function_attributes\u001b[0m\u001b[0;34m,\u001b[0m\u001b[0;34m\u001b[0m\u001b[0;34m\u001b[0m\u001b[0m\n\u001b[1;32m   3208\u001b[0m         \u001b[0mfunction_spec\u001b[0m\u001b[0;34m=\u001b[0m\u001b[0mself\u001b[0m\u001b[0;34m.\u001b[0m\u001b[0mfunction_spec\u001b[0m\u001b[0;34m,\u001b[0m\u001b[0;34m\u001b[0m\u001b[0;34m\u001b[0m\u001b[0m\n",
            "\u001b[0;32m/usr/local/lib/python3.7/dist-packages/tensorflow/python/framework/func_graph.py\u001b[0m in \u001b[0;36mfunc_graph_from_py_func\u001b[0;34m(name, python_func, args, kwargs, signature, func_graph, autograph, autograph_options, add_control_dependencies, arg_names, op_return_value, collections, capture_by_value, override_flat_arg_shapes)\u001b[0m\n\u001b[1;32m    988\u001b[0m         \u001b[0m_\u001b[0m\u001b[0;34m,\u001b[0m \u001b[0moriginal_func\u001b[0m \u001b[0;34m=\u001b[0m \u001b[0mtf_decorator\u001b[0m\u001b[0;34m.\u001b[0m\u001b[0munwrap\u001b[0m\u001b[0;34m(\u001b[0m\u001b[0mpython_func\u001b[0m\u001b[0;34m)\u001b[0m\u001b[0;34m\u001b[0m\u001b[0;34m\u001b[0m\u001b[0m\n\u001b[1;32m    989\u001b[0m \u001b[0;34m\u001b[0m\u001b[0m\n\u001b[0;32m--> 990\u001b[0;31m       \u001b[0mfunc_outputs\u001b[0m \u001b[0;34m=\u001b[0m \u001b[0mpython_func\u001b[0m\u001b[0;34m(\u001b[0m\u001b[0;34m*\u001b[0m\u001b[0mfunc_args\u001b[0m\u001b[0;34m,\u001b[0m \u001b[0;34m**\u001b[0m\u001b[0mfunc_kwargs\u001b[0m\u001b[0;34m)\u001b[0m\u001b[0;34m\u001b[0m\u001b[0;34m\u001b[0m\u001b[0m\n\u001b[0m\u001b[1;32m    991\u001b[0m \u001b[0;34m\u001b[0m\u001b[0m\n\u001b[1;32m    992\u001b[0m       \u001b[0;31m# invariant: `func_outputs` contains only Tensors, CompositeTensors,\u001b[0m\u001b[0;34m\u001b[0m\u001b[0;34m\u001b[0m\u001b[0;34m\u001b[0m\u001b[0m\n",
            "\u001b[0;32m/usr/local/lib/python3.7/dist-packages/tensorflow/python/eager/def_function.py\u001b[0m in \u001b[0;36mwrapped_fn\u001b[0;34m(*args, **kwds)\u001b[0m\n\u001b[1;32m    632\u001b[0m             \u001b[0mxla_context\u001b[0m\u001b[0;34m.\u001b[0m\u001b[0mExit\u001b[0m\u001b[0;34m(\u001b[0m\u001b[0;34m)\u001b[0m\u001b[0;34m\u001b[0m\u001b[0;34m\u001b[0m\u001b[0m\n\u001b[1;32m    633\u001b[0m         \u001b[0;32melse\u001b[0m\u001b[0;34m:\u001b[0m\u001b[0;34m\u001b[0m\u001b[0;34m\u001b[0m\u001b[0m\n\u001b[0;32m--> 634\u001b[0;31m           \u001b[0mout\u001b[0m \u001b[0;34m=\u001b[0m \u001b[0mweak_wrapped_fn\u001b[0m\u001b[0;34m(\u001b[0m\u001b[0;34m)\u001b[0m\u001b[0;34m.\u001b[0m\u001b[0m__wrapped__\u001b[0m\u001b[0;34m(\u001b[0m\u001b[0;34m*\u001b[0m\u001b[0margs\u001b[0m\u001b[0;34m,\u001b[0m \u001b[0;34m**\u001b[0m\u001b[0mkwds\u001b[0m\u001b[0;34m)\u001b[0m\u001b[0;34m\u001b[0m\u001b[0;34m\u001b[0m\u001b[0m\n\u001b[0m\u001b[1;32m    635\u001b[0m         \u001b[0;32mreturn\u001b[0m \u001b[0mout\u001b[0m\u001b[0;34m\u001b[0m\u001b[0;34m\u001b[0m\u001b[0m\n\u001b[1;32m    636\u001b[0m \u001b[0;34m\u001b[0m\u001b[0m\n",
            "\u001b[0;32m/usr/local/lib/python3.7/dist-packages/tensorflow/python/framework/func_graph.py\u001b[0m in \u001b[0;36mwrapper\u001b[0;34m(*args, **kwargs)\u001b[0m\n\u001b[1;32m    975\u001b[0m           \u001b[0;32mexcept\u001b[0m \u001b[0mException\u001b[0m \u001b[0;32mas\u001b[0m \u001b[0me\u001b[0m\u001b[0;34m:\u001b[0m  \u001b[0;31m# pylint:disable=broad-except\u001b[0m\u001b[0;34m\u001b[0m\u001b[0;34m\u001b[0m\u001b[0m\n\u001b[1;32m    976\u001b[0m             \u001b[0;32mif\u001b[0m \u001b[0mhasattr\u001b[0m\u001b[0;34m(\u001b[0m\u001b[0me\u001b[0m\u001b[0;34m,\u001b[0m \u001b[0;34m\"ag_error_metadata\"\u001b[0m\u001b[0;34m)\u001b[0m\u001b[0;34m:\u001b[0m\u001b[0;34m\u001b[0m\u001b[0;34m\u001b[0m\u001b[0m\n\u001b[0;32m--> 977\u001b[0;31m               \u001b[0;32mraise\u001b[0m \u001b[0me\u001b[0m\u001b[0;34m.\u001b[0m\u001b[0mag_error_metadata\u001b[0m\u001b[0;34m.\u001b[0m\u001b[0mto_exception\u001b[0m\u001b[0;34m(\u001b[0m\u001b[0me\u001b[0m\u001b[0;34m)\u001b[0m\u001b[0;34m\u001b[0m\u001b[0;34m\u001b[0m\u001b[0m\n\u001b[0m\u001b[1;32m    978\u001b[0m             \u001b[0;32melse\u001b[0m\u001b[0;34m:\u001b[0m\u001b[0;34m\u001b[0m\u001b[0;34m\u001b[0m\u001b[0m\n\u001b[1;32m    979\u001b[0m               \u001b[0;32mraise\u001b[0m\u001b[0;34m\u001b[0m\u001b[0;34m\u001b[0m\u001b[0m\n",
            "\u001b[0;31mValueError\u001b[0m: in user code:\n\n    /usr/local/lib/python3.7/dist-packages/tensorflow/python/keras/engine/training.py:805 train_function  *\n        return step_function(self, iterator)\n    <ipython-input-168-f28ebce536cf>:49 call  *\n        x = self.embed_with_bert(inputs)\n    <ipython-input-153-f5c846b97482>:43 embed_with_bert  *\n        _, embs = self.bert_layer([all_tokens[:, 0, :],\n    /usr/local/lib/python3.7/dist-packages/tensorflow/python/util/dispatch.py:201 wrapper\n        return target(*args, **kwargs)\n    /usr/local/lib/python3.7/dist-packages/tensorflow/python/ops/array_ops.py:1047 _slice_helper\n        name=name)\n    /usr/local/lib/python3.7/dist-packages/tensorflow/python/util/dispatch.py:201 wrapper\n        return target(*args, **kwargs)\n    /usr/local/lib/python3.7/dist-packages/tensorflow/python/ops/array_ops.py:1219 strided_slice\n        shrink_axis_mask=shrink_axis_mask)\n    /usr/local/lib/python3.7/dist-packages/tensorflow/python/ops/gen_array_ops.py:10479 strided_slice\n        shrink_axis_mask=shrink_axis_mask, name=name)\n    /usr/local/lib/python3.7/dist-packages/tensorflow/python/framework/op_def_library.py:750 _apply_op_helper\n        attrs=attr_protos, op_def=op_def)\n    /usr/local/lib/python3.7/dist-packages/tensorflow/python/framework/func_graph.py:592 _create_op_internal\n        compute_device)\n    /usr/local/lib/python3.7/dist-packages/tensorflow/python/framework/ops.py:3536 _create_op_internal\n        op_def=op_def)\n    /usr/local/lib/python3.7/dist-packages/tensorflow/python/framework/ops.py:2016 __init__\n        control_input_ops, op_def)\n    /usr/local/lib/python3.7/dist-packages/tensorflow/python/framework/ops.py:1856 _create_c_op\n        raise ValueError(str(e))\n\n    ValueError: Index out of range using input dim 2; input has only 2 dims for '{{node dcnn/strided_slice}} = StridedSlice[Index=DT_INT32, T=DT_INT32, begin_mask=5, ellipsis_mask=0, end_mask=5, new_axis_mask=0, shrink_axis_mask=2](IteratorGetNext, dcnn/strided_slice/stack, dcnn/strided_slice/stack_1, dcnn/strided_slice/stack_2)' with input shapes: [?,?], [3], [3], [3] and with computed input tensors: input[3] = <1 1 1>.\n"
          ]
        }
      ]
    },
    {
      "cell_type": "code",
      "metadata": {
        "id": "DPN8iGADCC4R"
      },
      "source": [
        ""
      ],
      "execution_count": null,
      "outputs": []
    }
  ]
}